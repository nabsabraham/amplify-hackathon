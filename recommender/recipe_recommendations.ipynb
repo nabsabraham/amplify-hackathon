{
 "cells": [
  {
   "cell_type": "code",
   "execution_count": 1,
   "metadata": {},
   "outputs": [],
   "source": [
    "import numpy as np\n",
    "import pandas as pd\n",
    "import json\n",
    "pd.set_option('display.max_rows', 200)"
   ]
  },
  {
   "cell_type": "code",
   "execution_count": null,
   "metadata": {},
   "outputs": [],
   "source": [
    "# Loading data from the sale repository\n",
    "df_produce = pd.read_csv('')\n",
    "list_produce = df_produce[df_produce['class']==2].produce.tolist()\n",
    "list_produce_lower = [x.lower() for x in list_produce]"
   ]
  },
  {
   "cell_type": "code",
   "execution_count": null,
   "metadata": {},
   "outputs": [],
   "source": [
    "# read csv with recipes\n",
    "df_recipe = pd.read_csv('recipes_hackathon.csv')"
   ]
  },
  {
   "cell_type": "code",
   "execution_count": null,
   "metadata": {},
   "outputs": [],
   "source": [
    "# Identify recipes to use\n",
    "output_recipe = {}\n",
    "for fruit in list_produce_lower:\n",
    "    random_val = np.random.randint(2, size=1)[0]\n",
    "    recipe_name = df_subset[df_subset.apply(lambda x: fruit in x['ingredients'], axis=1)].name.iloc[random_val]\n",
    "    output_recipe[fruit] = recipe_name"
   ]
  },
  {
   "cell_type": "code",
   "execution_count": null,
   "metadata": {},
   "outputs": [],
   "source": [
    "# convert into JSON:\n",
    "json_output = json.dumps(output_recipe)"
   ]
  }
 ],
 "metadata": {
  "kernelspec": {
   "display_name": "Python 3",
   "language": "python",
   "name": "python3"
  },
  "language_info": {
   "codemirror_mode": {
    "name": "ipython",
    "version": 3
   },
   "file_extension": ".py",
   "mimetype": "text/x-python",
   "name": "python",
   "nbconvert_exporter": "python",
   "pygments_lexer": "ipython3",
   "version": "3.8.3"
  }
 },
 "nbformat": 4,
 "nbformat_minor": 4
}
