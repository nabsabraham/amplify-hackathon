{
 "cells": [
  {
   "cell_type": "code",
   "execution_count": 17,
   "metadata": {},
   "outputs": [],
   "source": [
    "import cv2\n",
    "import json\n",
    "import requests "
   ]
  },
  {
   "cell_type": "code",
   "execution_count": 9,
   "metadata": {},
   "outputs": [],
   "source": [
    "img = cv2.imread('test2.png')\n",
    "input_data = {'data': img.tolist()}"
   ]
  },
  {
   "cell_type": "code",
   "execution_count": 13,
   "metadata": {},
   "outputs": [
    {
     "name": "stdout",
     "output_type": "stream",
     "text": [
      "<Response [400]>\n",
      "{'code': 'BadRequestImageFormat', 'message': 'Bad Request Image Format, Uri: 087304bad7214fb9911d1b361c5e3d58'}\n"
     ]
    }
   ],
   "source": [
    "headers = {'Prediction-Key' : 'ae5a8bbf373847948ec9cbdf13cdfaae',\n",
    "    'Content-Type':'application/octet-stream', \n",
    "          'content' : imgbytes}\n",
    "url = 'https://nabila-custom-vision.cognitiveservices.azure.com/customvision/v3.0/Prediction/909cc200-acfd-4738-a5d6-f46488b3921a/classify/iterations/Iteration1/image'\n",
    "response = requests.post(url, data=json.dumps(input_data), headers=headers)\n",
    "print(response)\n",
    "print(response.json())"
   ]
  },
  {
   "cell_type": "code",
   "execution_count": null,
   "metadata": {},
   "outputs": [],
   "source": [
    "input_data = {'data': img.tolist()}\n",
    "headers = {'Content-Type':'application/json'}\n",
    "url = 'http://b790f0dc-11c1-41fb-8ccd-7f1f67567d49.westus.azurecontainer.io/score'\n",
    "response = requests.post(url, data=json.dumps(input_data), headers=headers)\n",
    "print(response)\n",
    "print(response.json())"
   ]
  },
  {
   "cell_type": "code",
   "execution_count": 19,
   "metadata": {},
   "outputs": [],
   "source": [
    "from azure.cognitiveservices.vision.customvision.training import CustomVisionTrainingClient\n",
    "from azure.cognitiveservices.vision.customvision.prediction import CustomVisionPredictionClient\n",
    "from azure.cognitiveservices.vision.customvision.training.models import ImageFileCreateBatch, ImageFileCreateEntry, Region\n",
    "from msrest.authentication import ApiKeyCredentials\n",
    "import time"
   ]
  },
  {
   "cell_type": "code",
   "execution_count": 40,
   "metadata": {},
   "outputs": [
    {
     "name": "stdout",
     "output_type": "stream",
     "text": [
      "\toverripe: 99.51%\n",
      "\tfresh: 0.36%\n",
      "\tripe: 0.14%\n"
     ]
    }
   ],
   "source": [
    "# Now there is a trained endpoint that can be used to make a prediction\n",
    "ENDPOINT = 'https://nabila-custom-vision.cognitiveservices.azure.com/'\n",
    "\n",
    "prediction_credentials = ApiKeyCredentials(in_headers={\"Prediction-key\": 'ae5a8bbf373847948ec9cbdf13cdfaae'})\n",
    "predictor = CustomVisionPredictionClient(ENDPOINT, prediction_credentials)\n",
    "project_id = '909cc200-acfd-4738-a5d6-f46488b3921a'\n",
    "publish_iteration_name = 'Iteration1'\n",
    "\n",
    "with open(\"banana.jpg\", \"rb\") as image_contents:\n",
    "    results = predictor.classify_image(\n",
    "        project_id, publish_iteration_name, image_contents.read())\n",
    "\n",
    "    # Display the results.\n",
    "    for prediction in results.predictions:\n",
    "        print(\"\\t\" + prediction.tag_name +\n",
    "              \": {0:.2f}%\".format(prediction.probability * 100))"
   ]
  },
  {
   "cell_type": "code",
   "execution_count": 41,
   "metadata": {},
   "outputs": [
    {
     "data": {
      "text/plain": [
       "0.9950965"
      ]
     },
     "execution_count": 41,
     "metadata": {},
     "output_type": "execute_result"
    }
   ],
   "source": [
    "results.predictions[0].probability"
   ]
  },
  {
   "cell_type": "code",
   "execution_count": 43,
   "metadata": {},
   "outputs": [
    {
     "name": "stdout",
     "output_type": "stream",
     "text": [
      "\tripe: 92.21%\n",
      "\toverripe: 7.60%\n",
      "\tfresh: 0.18%\n"
     ]
    }
   ],
   "source": [
    "# Now there is a trained endpoint that can be used to make a prediction\n",
    "ENDPOINT = 'https://nabila-custom-vision.cognitiveservices.azure.com/'\n",
    "\n",
    "prediction_credentials = ApiKeyCredentials(in_headers={\"Prediction-key\": 'ae5a8bbf373847948ec9cbdf13cdfaae'})\n",
    "predictor = CustomVisionPredictionClient(ENDPOINT, prediction_credentials)\n",
    "project_id = '909cc200-acfd-4738-a5d6-f46488b3921a'\n",
    "publish_iteration_name = 'Iteration2'\n",
    "res_dict={}\n",
    "with open(\"banana.jpg\", \"rb\") as image_contents:\n",
    "    results = predictor.classify_image(\n",
    "        project_id, publish_iteration_name, image_contents.read())\n",
    "\n",
    "    # Display the results.\n",
    "    for prediction in results.predictions:\n",
    "        print(\"\\t\" + prediction.tag_name +\n",
    "              \": {0:.2f}%\".format(prediction.probability * 100))\n",
    "        res_dict[prediction.tag_name] = prediction.probability"
   ]
  },
  {
   "cell_type": "code",
   "execution_count": 50,
   "metadata": {},
   "outputs": [
    {
     "name": "stdout",
     "output_type": "stream",
     "text": [
      "ripe\n",
      "0.9221104\n"
     ]
    }
   ],
   "source": [
    "max_class = max(res_dict, key=res_dict.get)\n",
    "print(max_class)\n",
    "print(res_dict[max_class])"
   ]
  },
  {
   "cell_type": "code",
   "execution_count": 37,
   "metadata": {},
   "outputs": [
    {
     "name": "stdout",
     "output_type": "stream",
     "text": [
      "[0.8734428, 0.09530386, 0.0312532522]\n"
     ]
    }
   ],
   "source": [
    "prob_vector = [results.predictions[i].probability for i in range(3)]\n",
    "print(probs)"
   ]
  },
  {
   "cell_type": "code",
   "execution_count": 33,
   "metadata": {},
   "outputs": [
    {
     "data": {
      "text/plain": [
       "0.8734428"
      ]
     },
     "execution_count": 33,
     "metadata": {},
     "output_type": "execute_result"
    }
   ],
   "source": [
    "import numpy as np\n",
    "np.max(probs)"
   ]
  },
  {
   "cell_type": "code",
   "execution_count": 34,
   "metadata": {},
   "outputs": [
    {
     "data": {
      "text/plain": [
       "0"
      ]
     },
     "execution_count": 34,
     "metadata": {},
     "output_type": "execute_result"
    }
   ],
   "source": [
    "probs.index(max(probs))"
   ]
  },
  {
   "cell_type": "code",
   "execution_count": 36,
   "metadata": {},
   "outputs": [
    {
     "data": {
      "text/plain": [
       "0"
      ]
     },
     "execution_count": 36,
     "metadata": {},
     "output_type": "execute_result"
    }
   ],
   "source": [
    "probs.index(0.8734428)"
   ]
  },
  {
   "cell_type": "code",
   "execution_count": null,
   "metadata": {},
   "outputs": [],
   "source": []
  }
 ],
 "metadata": {
  "kernelspec": {
   "display_name": "Python 3",
   "language": "python",
   "name": "python3"
  },
  "language_info": {
   "codemirror_mode": {
    "name": "ipython",
    "version": 3
   },
   "file_extension": ".py",
   "mimetype": "text/x-python",
   "name": "python",
   "nbconvert_exporter": "python",
   "pygments_lexer": "ipython3",
   "version": "3.7.6"
  }
 },
 "nbformat": 4,
 "nbformat_minor": 4
}
