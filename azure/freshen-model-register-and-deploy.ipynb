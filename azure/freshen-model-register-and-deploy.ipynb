{
 "cells": [
  {
   "cell_type": "markdown",
   "metadata": {},
   "source": [
    "Copyright (c) Microsoft Corporation. All rights reserved.\n",
    "\n",
    "Licensed under the MIT License."
   ]
  },
  {
   "cell_type": "markdown",
   "metadata": {},
   "source": [
    "![Impressions](https://PixelServer20190423114238.azurewebsites.net/api/impressions/MachineLearningNotebooks/how-to-use-azureml/deployment/deploy-to-cloud/model-register-and-deploy.png)"
   ]
  },
  {
   "cell_type": "markdown",
   "metadata": {},
   "source": [
    "# Register model and deploy as webservice in ACI\n",
    "\n",
    "Following this notebook, you will:\n",
    "\n",
    " - Learn how to register a model in your Azure Machine Learning Workspace.\n",
    " - Deploy your model as a web service in an Azure Container Instance."
   ]
  },
  {
   "cell_type": "markdown",
   "metadata": {},
   "source": [
    "## Prerequisites\n",
    "\n",
    "If you are using an Azure Machine Learning Notebook VM, you are all set. Otherwise, make sure you go through the [configuration notebook](../../../configuration.ipynb) to install the Azure Machine Learning Python SDK and create a workspace."
   ]
  },
  {
   "cell_type": "code",
   "execution_count": 1,
   "metadata": {},
   "outputs": [
    {
     "name": "stdout",
     "output_type": "stream",
     "text": [
      "SDK version: 1.17.0\n"
     ]
    }
   ],
   "source": [
    "import azureml.core\n",
    "\n",
    "\n",
    "# Check core SDK version number.\n",
    "print('SDK version:', azureml.core.VERSION)"
   ]
  },
  {
   "cell_type": "markdown",
   "metadata": {},
   "source": [
    "## Initialize workspace\n",
    "\n",
    "Create a [Workspace](https://docs.microsoft.com/en-us/python/api/azureml-core/azureml.core.workspace%28class%29?view=azure-ml-py) object from your persisted configuration."
   ]
  },
  {
   "cell_type": "code",
   "execution_count": 7,
   "metadata": {
    "tags": [
     "create workspace"
    ]
   },
   "outputs": [
    {
     "name": "stdout",
     "output_type": "stream",
     "text": [
      "nabila-ml\n",
      "nabila-amplify-rg\n",
      "eastus\n",
      "38d95926-fedd-400d-a5d4-60c70a647707\n"
     ]
    }
   ],
   "source": [
    "from azureml.core import Workspace\n",
    "\n",
    "\n",
    "ws = Workspace.from_config()\n",
    "print(ws.name, ws.resource_group, ws.location, ws.subscription_id, sep='\\n')"
   ]
  },
  {
   "cell_type": "markdown",
   "metadata": {},
   "source": [
    "## Create trained model\n",
    "\n",
    "For this example, we will train a small model on scikit-learn's [diabetes dataset](https://scikit-learn.org/stable/datasets/index.html#diabetes-dataset). "
   ]
  },
  {
   "cell_type": "code",
   "execution_count": 2,
   "metadata": {},
   "outputs": [],
   "source": [
    "import joblib\n",
    "import sklearn\n",
    "from torchvision import models\n",
    "import torch\n",
    "import torch.nn.functional as F\n",
    "from sklearn.datasets import load_diabetes\n",
    "from sklearn.linear_model import Ridge\n",
    "\n",
    "#alexnet = models.alexnet(pretrained=True)\n",
    "#joblib.dump(alexnet, 'alexnet_model.pkl')"
   ]
  },
  {
   "cell_type": "code",
   "execution_count": 3,
   "metadata": {},
   "outputs": [
    {
     "name": "stdout",
     "output_type": "stream",
     "text": [
      "alexnet_model.pkl                       freshen-model-register-and-deploy.ipynb\r\n",
      "banana.jpg                              image_serial.json\r\n",
      "config.json                             imagenet_classes.txt\r\n",
      "config.json.save                        outputfile.json\r\n",
      "deploy-keras-model.ipynb                score.py\r\n",
      "env.yml                                 testEndpoint.ipynb\r\n",
      "fresh-rotten-model.h5\r\n"
     ]
    }
   ],
   "source": [
    "!ls "
   ]
  },
  {
   "cell_type": "markdown",
   "metadata": {},
   "source": [
    "## Register model\n",
    "\n",
    "Register a file or folder as a model by calling [Model.register()](https://docs.microsoft.com/en-us/python/api/azureml-core/azureml.core.model.model?view=azure-ml-py#register-workspace--model-path--model-name--tags-none--properties-none--description-none--datasets-none--model-framework-none--model-framework-version-none--child-paths-none-).\n",
    "\n",
    "In addition to the content of the model file itself, your registered model will also store model metadata -- model description, tags, and framework information -- that will be useful when managing and deploying models in your workspace. Using tags, for instance, you can categorize your models and apply filters when listing models in your workspace. Also, marking this model with the scikit-learn framework will simplify deploying it as a web service, as we'll see later."
   ]
  },
  {
   "cell_type": "code",
   "execution_count": 8,
   "metadata": {},
   "outputs": [],
   "source": [
    "import os\n",
    "from azureml.core import Model\n",
    "from azureml.core.resource_configuration import ResourceConfiguration"
   ]
  },
  {
   "cell_type": "code",
   "execution_count": null,
   "metadata": {},
   "outputs": [],
   "source": [
    "model = Model.register(workspace=ws,\n",
    "                       model_name='alexnet',                # Name of the registered model in your workspace.\n",
    "                       model_path='alexnet_model.pkl',  # Local file to upload and register as a model.\n",
    "\n",
    "                       resource_configuration=ResourceConfiguration(cpu=1, memory_in_gb=1),\n",
    "                       description='Predict image label',\n",
    "                       tags={'area': 'image', 'type': 'recognition'}\n",
    "                      )"
   ]
  },
  {
   "cell_type": "code",
   "execution_count": 9,
   "metadata": {},
   "outputs": [],
   "source": [
    "model = Model(name='alexnet', workspace=ws)"
   ]
  },
  {
   "cell_type": "code",
   "execution_count": 10,
   "metadata": {
    "tags": [
     "register model from file",
     "sample-model-register"
    ]
   },
   "outputs": [
    {
     "name": "stdout",
     "output_type": "stream",
     "text": [
      "alexnet\talexnet:4\t4\n"
     ]
    }
   ],
   "source": [
    "print(model.name, model.id, model.version, sep='\\t')"
   ]
  },
  {
   "cell_type": "markdown",
   "metadata": {},
   "source": [
    "## Deploy model\n",
    "\n",
    "Deploy your model as a web service using [Model.deploy()](https://docs.microsoft.com/en-us/python/api/azureml-core/azureml.core.model.model?view=azure-ml-py#deploy-workspace--name--models--inference-config--deployment-config-none--deployment-target-none-). Web services take one or more models, load them in an environment, and run them on one of several supported deployment targets. For more information on all your options when deploying models, see the [next steps](#Next-steps) section at the end of this notebook.\n",
    "\n",
    "For this example, we will deploy your scikit-learn model to an Azure Container Instance (ACI)."
   ]
  },
  {
   "cell_type": "markdown",
   "metadata": {},
   "source": [
    "### Use a custom environment\n",
    "\n",
    "If you want more control over how your model is run, if it uses another framework, or if it has special runtime requirements, you can instead specify your own environment and scoring method. Custom environments can be used for any model you want to deploy.\n",
    "\n",
    "Specify the model's runtime environment by creating an [Environment](https://docs.microsoft.com/en-us/python/api/azureml-core/azureml.core.environment%28class%29?view=azure-ml-py) object and providing the [CondaDependencies](https://docs.microsoft.com/en-us/python/api/azureml-core/azureml.core.conda_dependencies.condadependencies?view=azure-ml-py) needed by your model."
   ]
  },
  {
   "cell_type": "code",
   "execution_count": 11,
   "metadata": {},
   "outputs": [],
   "source": [
    "from azureml.core import Environment\n",
    "from azureml.core.conda_dependencies import CondaDependencies\n",
    "\n",
    "\n",
    "environment = Environment('my-freshen-environment')\n",
    "environment.python.conda_dependencies = CondaDependencies.create(pip_packages=[\n",
    "    'azureml-defaults',\n",
    "    'inference-schema[numpy-support]',\n",
    "    'joblib',\n",
    "    'numpy',\n",
    "    'torch',\n",
    "    'torchvision',\n",
    "    'scikit-learn=={}'.format(sklearn.__version__)\n",
    "])"
   ]
  },
  {
   "cell_type": "code",
   "execution_count": 12,
   "metadata": {},
   "outputs": [
    {
     "name": "stdout",
     "output_type": "stream",
     "text": [
      "Overwriting score.py\n"
     ]
    }
   ],
   "source": [
    "%%writefile score.py\n",
    "import os\n",
    "import pickle\n",
    "import json\n",
    "import joblib\n",
    "import numpy as np\n",
    "import torch\n",
    "from azureml.core.model import Model\n",
    "from torchvision import transforms\n",
    "from PIL import Image \n",
    "\n",
    "transform = transforms.Compose([            \n",
    " transforms.Resize(256),                    \n",
    " transforms.CenterCrop(224),                \n",
    " transforms.ToTensor(),                     \n",
    " transforms.Normalize(                  \n",
    " mean=[0.485, 0.456, 0.406],                \n",
    " std=[0.229, 0.224, 0.225]                  \n",
    " )])\n",
    "\n",
    "\n",
    "def preprocess_data(img):\n",
    "    print(f' Image shape in preprocess data: {img.shape}')\n",
    "    img = Image.fromarray(img, 'RGB')\n",
    "    print(f' Image type: {type(img)}')\n",
    "    img_t = transform(img)\n",
    "    batch_t = torch.unsqueeze(img_t, 0)\n",
    "    return batch_t\n",
    "\n",
    "def init():\n",
    "    global model\n",
    "    # retrieve the path to the model file using the model name\n",
    "    model_path = os.path.join(os.getenv('AZUREML_MODEL_DIR'), 'alexnet_model.pkl')\n",
    "    model = joblib.load(model_path)\n",
    "\n",
    "def run(raw_data):\n",
    "\n",
    "    try:\n",
    "        print('in the try, received data')\n",
    "        data = np.array(json.loads(raw_data)['data'])\n",
    "        print('after the read')\n",
    "        # make prediction\n",
    "        print(f'Length of the data list: {len(list(data))}')\n",
    "        img = preprocess_data(data)\n",
    "        print('after the preprocess')\n",
    "        y = model(img)\n",
    "        print('after inference')\n",
    "        #prob = F.softmax(y, dim=1)[0]\n",
    "        #_, ind = torch.topk(y, 1) \n",
    "        return y.tolist()[0]\n",
    "    \n",
    "    except Exception as e:\n",
    "        error = str(e)\n",
    "        return error"
   ]
  },
  {
   "cell_type": "markdown",
   "metadata": {},
   "source": [
    "When using a custom environment, you must also provide Python code for initializing and running your model. An example script is included with this notebook."
   ]
  },
  {
   "cell_type": "code",
   "execution_count": 13,
   "metadata": {},
   "outputs": [],
   "source": [
    "import os\n",
    "import pickle\n",
    "import json\n",
    "import joblib\n",
    "import numpy as np\n",
    "from azureml.core.model import Model\n",
    "from torchvision import transforms\n",
    "from PIL import Image \n",
    "\n",
    "transform = transforms.Compose([            \n",
    " transforms.Resize(256),                    \n",
    " transforms.CenterCrop(224),                \n",
    " transforms.ToTensor(),                     \n",
    " transforms.Normalize(                  \n",
    " mean=[0.485, 0.456, 0.406],                \n",
    " std=[0.229, 0.224, 0.225]                  \n",
    " )])\n",
    "\n",
    "\n",
    "def preprocess_data(img):\n",
    "    print(f' Image shape in preprocess data: {img.shape}')\n",
    "    img = Image.fromarray(img, 'RGB')\n",
    "    print(f' Image type: {type(img)}')\n",
    "    img_t = transform(img)\n",
    "    batch_t = torch.unsqueeze(img_t, 0)\n",
    "    return batch_t\n",
    "\n",
    "def init():\n",
    "    global model\n",
    "    # retrieve the path to the model file using the model name\n",
    "    model_path = os.path.join(os.getenv('AZUREML_MODEL_DIR'), 'alexnet_model.pkl')\n",
    "    model = joblib.load(model_path)\n",
    "\n",
    "def run(raw_data):\n",
    "\n",
    "    try:\n",
    "        print('in the try, received data')\n",
    "        model = joblib.load('alexnet_model.pkl')\n",
    "        data = np.array(json.loads(raw_data)['data'])\n",
    "        print('after the read')\n",
    "        # make prediction\n",
    "        print(f'Length of the data list: {len(list(data))}')\n",
    "        img = preprocess_data(data)\n",
    "        print('after the preprocess')\n",
    "        y = model(img)\n",
    "        print('after inference')\n",
    "        prob = F.softmax(y, dim=1)[0]\n",
    "        return y.tolist()[0]\n",
    "    \n",
    "    except Exception as e:\n",
    "        error = str(e)\n",
    "        return error"
   ]
  },
  {
   "cell_type": "code",
   "execution_count": 14,
   "metadata": {},
   "outputs": [],
   "source": [
    "import cv2\n",
    "import json\n",
    "\n",
    "img = cv2.imread('banana.jpg')\n",
    "input_data = {'data': img.tolist()}"
   ]
  },
  {
   "cell_type": "code",
   "execution_count": 15,
   "metadata": {},
   "outputs": [],
   "source": [
    "#with open('image.txt', 'w') as file:\n",
    " #    file.write(json.dumps(input_data))"
   ]
  },
  {
   "cell_type": "code",
   "execution_count": 16,
   "metadata": {},
   "outputs": [
    {
     "name": "stdout",
     "output_type": "stream",
     "text": [
      "in the try, received data\n",
      "after the read\n",
      "Length of the data list: 667\n",
      " Image shape in preprocess data: (667, 1000, 3)\n",
      " Image type: <class 'PIL.Image.Image'>\n",
      "after the preprocess\n",
      "after inference\n"
     ]
    }
   ],
   "source": [
    "y = run(json.dumps(input_data))"
   ]
  },
  {
   "cell_type": "code",
   "execution_count": 17,
   "metadata": {},
   "outputs": [
    {
     "ename": "AttributeError",
     "evalue": "'list' object has no attribute 'shape'",
     "output_type": "error",
     "traceback": [
      "\u001b[0;31m---------------------------------------------------------------------------\u001b[0m",
      "\u001b[0;31mAttributeError\u001b[0m                            Traceback (most recent call last)",
      "\u001b[0;32m<ipython-input-17-a2d3d6726c7a>\u001b[0m in \u001b[0;36m<module>\u001b[0;34m\u001b[0m\n\u001b[0;32m----> 1\u001b[0;31m \u001b[0mprint\u001b[0m\u001b[0;34m(\u001b[0m\u001b[0my\u001b[0m\u001b[0;34m.\u001b[0m\u001b[0mshape\u001b[0m\u001b[0;34m)\u001b[0m\u001b[0;34m\u001b[0m\u001b[0;34m\u001b[0m\u001b[0m\n\u001b[0m",
      "\u001b[0;31mAttributeError\u001b[0m: 'list' object has no attribute 'shape'"
     ]
    }
   ],
   "source": [
    "print(y.shape)"
   ]
  },
  {
   "cell_type": "code",
   "execution_count": 18,
   "metadata": {},
   "outputs": [
    {
     "name": "stdout",
     "output_type": "stream",
     "text": [
      "import os\n",
      "import pickle\n",
      "import json\n",
      "import joblib\n",
      "import numpy as np\n",
      "import torch\n",
      "from azureml.core.model import Model\n",
      "from torchvision import transforms\n",
      "from PIL import Image \n",
      "\n",
      "transform = transforms.Compose([            \n",
      " transforms.Resize(256),                    \n",
      " transforms.CenterCrop(224),                \n",
      " transforms.ToTensor(),                     \n",
      " transforms.Normalize(                  \n",
      " mean=[0.485, 0.456, 0.406],                \n",
      " std=[0.229, 0.224, 0.225]                  \n",
      " )])\n",
      "\n",
      "\n",
      "def preprocess_data(img):\n",
      "    print(f' Image shape in preprocess data: {img.shape}')\n",
      "    img = Image.fromarray(img, 'RGB')\n",
      "    print(f' Image type: {type(img)}')\n",
      "    img_t = transform(img)\n",
      "    batch_t = torch.unsqueeze(img_t, 0)\n",
      "    return batch_t\n",
      "\n",
      "def init():\n",
      "    global model\n",
      "    # retrieve the path to the model file using the model name\n",
      "    model_path = os.path.join(os.getenv('AZUREML_MODEL_DIR'), 'alexnet_model.pkl')\n",
      "    model = joblib.load(model_path)\n",
      "\n",
      "def run(raw_data):\n",
      "\n",
      "    try:\n",
      "        print('in the try, received data')\n",
      "        data = np.array(json.loads(raw_data)['data'])\n",
      "        print('after the read')\n",
      "        # make prediction\n",
      "        print(f'Length of the data list: {len(list(data))}')\n",
      "        img = preprocess_data(data)\n",
      "        print('after the preprocess')\n",
      "        y = model(img)\n",
      "        print('after inference')\n",
      "        #prob = F.softmax(y, dim=1)[0]\n",
      "        #_, ind = torch.topk(y, 1) \n",
      "        return y.tolist()[0]\n",
      "    \n",
      "    except Exception as e:\n",
      "        error = str(e)\n",
      "        return error\n",
      "\n"
     ]
    }
   ],
   "source": [
    "with open('score.py') as f:\n",
    "    print(f.read())"
   ]
  },
  {
   "cell_type": "markdown",
   "metadata": {},
   "source": [
    "Deploy your model in the custom environment by providing an [InferenceConfig](https://docs.microsoft.com/en-us/python/api/azureml-core/azureml.core.model.inferenceconfig?view=azure-ml-py) object to [Model.deploy()](https://docs.microsoft.com/en-us/python/api/azureml-core/azureml.core.model.model?view=azure-ml-py#deploy-workspace--name--models--inference-config--deployment-config-none--deployment-target-none-). In this case we are also using the [AciWebservice.deploy_configuration()](https://docs.microsoft.com/python/api/azureml-core/azureml.core.webservice.aci.aciwebservice#deploy-configuration-cpu-cores-none--memory-gb-none--tags-none--properties-none--description-none--location-none--auth-enabled-none--ssl-enabled-none--enable-app-insights-none--ssl-cert-pem-file-none--ssl-key-pem-file-none--ssl-cname-none--dns-name-label-none--) method to generate a custom deploy configuration.\n",
    "\n",
    "**Note**: This step can take several minutes."
   ]
  },
  {
   "cell_type": "code",
   "execution_count": 19,
   "metadata": {
    "tags": [
     "azuremlexception-remarks-sample",
     "sample-aciwebservice-deploy-config"
    ]
   },
   "outputs": [
    {
     "name": "stdout",
     "output_type": "stream",
     "text": [
      "Tips: You can try get_logs(): https://aka.ms/debugimage#dockerlog or local deployment: https://aka.ms/debugimage#debug-locally to debug if deployment takes longer than 10 minutes.\n",
      "Running................................................................................................................\n",
      "Succeeded\n",
      "ACI service creation operation finished, operation \"Succeeded\"\n"
     ]
    }
   ],
   "source": [
    "from azureml.core.model import InferenceConfig\n",
    "from azureml.core.webservice import AciWebservice\n",
    "\n",
    "\n",
    "service_name = 'freshen-service'\n",
    "\n",
    "inference_config = InferenceConfig(entry_script='score.py', environment=environment)\n",
    "aci_config = AciWebservice.deploy_configuration(cpu_cores=1, memory_gb=1)\n",
    "\n",
    "service = Model.deploy(workspace=ws,\n",
    "                       name=service_name,\n",
    "                       models=[model],\n",
    "                       inference_config=inference_config,\n",
    "                       deployment_config=aci_config,\n",
    "                       overwrite=True)\n",
    "service.wait_for_deployment(show_output=True)"
   ]
  },
  {
   "cell_type": "markdown",
   "metadata": {},
   "source": [
    "After your model is deployed, make a call to the web service using [service.run()](https://docs.microsoft.com/en-us/python/api/azureml-core/azureml.core.webservice%28class%29?view=azure-ml-py#run-input-)."
   ]
  },
  {
   "cell_type": "code",
   "execution_count": 22,
   "metadata": {},
   "outputs": [
    {
     "name": "stdout",
     "output_type": "stream",
     "text": [
      "http://b790f0dc-11c1-41fb-8ccd-7f1f67567d49.westus.azurecontainer.io/score\n"
     ]
    }
   ],
   "source": [
    "import requests\n",
    "url = service.scoring_uri\n",
    "print(url)"
   ]
  },
  {
   "cell_type": "code",
   "execution_count": 23,
   "metadata": {},
   "outputs": [
    {
     "name": "stdout",
     "output_type": "stream",
     "text": [
      "<Response [200]>\n",
      "[-2.45529842376709, -0.4266611337661743, -2.901703119277954, -3.9166030883789062, -2.558084487915039, -1.452687382698059, -2.713717460632324, 2.3359639644622803, -0.3978450298309326, -0.837412416934967, -1.1852779388427734, -0.2879733741283417, -1.3325512409210205, 0.14101053774356842, 0.5280001759529114, -2.145664691925049, -0.4206080138683319, -0.0018470347858965397, -1.1478631496429443, -1.10204017162323, -3.369274377822876, 0.2699413597583771, 1.1452432870864868, 0.08656352013349533, -0.439001202583313, -2.6446993350982666, -2.7630155086517334, -2.320598602294922, -1.617109775543213, -2.1769018173217773, -4.110250473022461, 2.9585084915161133, -0.5302132964134216, -2.114755868911743, -3.821089267730713, -4.410364627838135, -1.9591296911239624, -4.781137943267822, 0.24273177981376648, -2.4248220920562744, 2.380720853805542, -1.5197012424468994, -2.082752227783203, -0.6175000071525574, -0.3882996141910553, -3.5851008892059326, 3.3650999069213867, -0.8800529837608337, -2.655630350112915, -2.310983419418335, -1.6838966608047485, -2.0909042358398438, 0.9337800741195679, -2.001471757888794, 0.22362695634365082, 1.2125718593597412, -0.48971736431121826, -3.906651496887207, -1.9134418964385986, 3.5367190837860107, -0.6798417568206787, 1.1572140455245972, -2.8330585956573486, -0.2974431812763214, 1.7055723667144775, -0.7831079363822937, -0.7237313389778137, -0.9551591277122498, -1.4613443613052368, -3.141589641571045, 0.03623678907752037, 1.5003844499588013, 0.9224590063095093, 4.369606971740723, 2.2432973384857178, 1.8513140678405762, 1.4504494667053223, 2.4123194217681885, 1.3345264196395874, 1.3104819059371948, -2.5808191299438477, -1.7687389850616455, -4.122704029083252, -3.55009388923645, 0.6772351861000061, -1.9536937475204468, -3.5666654109954834, 0.12172231823205948, 1.1990020275115967, -0.2912348210811615, -0.9370077252388, -2.0488173961639404, -0.9992069005966187, 0.2530886232852936, 1.2062374353408813, -1.6241893768310547, 1.3564022779464722, -1.2178674936294556, -4.555997848510742, -2.67475962638855, -1.6812266111373901, -2.007997989654541, -3.8448538780212402, -1.009034276008606, 0.2721843123435974, -4.26315450668335, -0.5536493062973022, 4.10234260559082, 0.16475829482078552, -1.4011027812957764, -0.31236517429351807, 3.068547248840332, 0.034912109375, 1.7548892498016357, -0.8808950185775757, -3.563955783843994, -3.483799457550049, 1.3677269220352173, -1.4719470739364624, -5.207298755645752, -1.8227909803390503, -2.21872878074646, -3.037353277206421, -1.9145212173461914, -0.16984757781028748, 0.03376248478889465, -0.34938883781433105, -0.34043869376182556, -1.539426565170288, -0.8624830842018127, -0.3835257291793823, -1.690042495727539, 1.7769922018051147, -0.9169934391975403, -0.709143877029419, -2.6839487552642822, -3.39715838432312, -3.8110644817352295, -3.8153159618377686, -3.787105083465576, -3.752807140350342, -1.9590849876403809, -3.790353536605835, -3.318291664123535, -0.10874485969543457, -2.1123342514038086, -2.3837482929229736, -3.3214023113250732, -1.8255804777145386, -0.8281376361846924, -1.181331992149353, 2.181155204772949, -1.692604422569275, 1.650698184967041, -0.544189453125, -0.10116690397262573, -0.9921750426292419, -1.711824655532837, -1.3871501684188843, -0.09926457703113556, -0.7196319103240967, 1.7354748249053955, 0.7261397838592529, 1.1735831499099731, 0.7956371903419495, -0.13334614038467407, 0.22868980467319489, -2.863419532775879, -1.0307129621505737, -1.1051710844039917, -2.276477575302124, 0.6601613163948059, 1.3886302709579468, -0.19469843804836273, 0.3762485384941101, -2.5806541442871094, -1.0583200454711914, -3.1866040229797363, 2.964545249938965, -1.5682649612426758, -0.1279314160346985, -1.1342763900756836, -0.00039559975266456604, -0.6416617631912231, -0.19400760531425476, -1.4162460565567017, -1.404813289642334, 1.2050191164016724, -2.441103458404541, -0.9940146207809448, -0.3232024312019348, -0.5666738152503967, -1.884576678276062, 0.1880590170621872, -2.1423416137695312, 0.48604053258895874, -0.49167323112487793, -0.47779181599617004, -1.8985095024108887, 1.423430323600769, 0.2300051748752594, -0.9969513416290283, -1.228901743888855, 1.7291339635849, 1.4074312448501587, 0.177633598446846, -2.2355563640594482, 0.26778438687324524, -0.1127312034368515, -0.4899260997772217, -2.0002601146698, -0.18134285509586334, -0.2603800594806671, -0.04110585153102875, -1.1842684745788574, 1.3160121440887451, -1.186130166053772, 1.4274541139602661, -1.7324841022491455, -0.2038930356502533, 0.36017805337905884, 0.20773547887802124, -1.1869807243347168, -1.035327672958374, 1.41440749168396, -1.5428242683410645, -0.8787552118301392, -1.0191857814788818, -0.2991524338722229, -0.26837459206581116, -1.0970799922943115, -2.0813868045806885, -0.08356685936450958, -0.572062075138092, -0.31041476130485535, -0.6955050826072693, 0.29168835282325745, 1.1087815761566162, -0.3607175946235657, -0.18983036279678345, -1.9937065839767456, -2.3724958896636963, 1.0184615850448608, 0.19359679520130157, -3.6561131477355957, -0.9469724297523499, 0.004629228264093399, -1.1182444095611572, -0.030603840947151184, -0.7003424763679504, -0.7416845560073853, 1.5117859840393066, -0.9637479186058044, 0.5540061593055725, 2.9178242683410645, -0.9873982071876526, -0.3766619563102722, -1.1774649620056152, -1.3482952117919922, -1.2802256345748901, -1.103814721107483, -1.997992753982544, -1.209051489830017, -0.9118509292602539, -2.3093717098236084, -1.0130715370178223, -1.928818702697754, -1.0804681777954102, -2.7945382595062256, -1.6289936304092407, 0.22835834324359894, -1.8291908502578735, -0.8508905172348022, -2.8107128143310547, -2.8085458278656006, -3.095036268234253, -3.0547378063201904, -0.6232444643974304, -1.9313822984695435, -0.9997702836990356, -2.7636098861694336, 2.030259132385254, 1.6705482006072998, 0.8595932722091675, 2.2169406414031982, 1.3832334280014038, 0.6092378497123718, -0.8929179310798645, -1.2011762857437134, 0.7606857419013977, -1.4100435972213745, -0.7524716258049011, 0.5049723982810974, 0.5812254548072815, 0.02181580662727356, -1.0763356685638428, -1.3986823558807373, -0.3138164281845093, -1.42952561378479, -0.38120079040527344, -1.4269062280654907, 2.201749563217163, -4.345438003540039, -1.2343674898147583, -1.4745354652404785, -2.0078015327453613, -0.4331388473510742, -0.4487583339214325, 0.46419936418533325, -0.8176326751708984, 2.0856690406799316, 0.2265402376651764, -0.292082816362381, 1.456665277481079, 1.5616178512573242, 3.165956974029541, 1.772943377494812, -0.09967446327209473, 2.6557910442352295, 0.21305015683174133, -0.7368687391281128, -1.8927603960037231, -1.4207501411437988, -2.058992862701416, 0.01893630251288414, -0.3638302981853485, -2.3387033939361572, 0.9261545538902283, 0.566111147403717, -3.559328079223633, -1.7048020362854004, -1.1619964838027954, -1.4265601634979248, -1.256212830543518, -1.2734405994415283, -0.9442762136459351, -2.98593807220459, -0.234066903591156, -0.6160265803337097, -1.162542462348938, -0.2390718311071396, -0.7004104256629944, -2.0222489833831787, -3.837869644165039, -3.6129560470581055, -0.9731025099754333, -2.3562474250793457, -3.406951904296875, -2.4296185970306396, -1.4063901901245117, -2.6107888221740723, -1.3199176788330078, -0.6165947914123535, -1.1614586114883423, -0.33342140913009644, -0.08459150791168213, -1.2266772985458374, -2.1257588863372803, -0.26770347356796265, 0.42690137028694153, -1.2601956129074097, -0.8384547233581543, -2.295738697052002, -1.9399303197860718, -2.5897295475006104, -0.9905356764793396, -0.1914827972650528, -1.034668207168579, -1.7909692525863647, -0.773597776889801, -0.1677909940481186, -1.8986408710479736, -2.1300179958343506, -2.1868131160736084, -1.4400347471237183, -0.8826752305030823, -0.6453156471252441, 0.6331620812416077, -2.561849594116211, -1.7987052202224731, -0.23581460118293762, -0.03530936315655708, -0.2587016820907593, -1.0026918649673462, -3.3882479667663574, -0.3955293297767639, -2.1714653968811035, -0.3872697949409485, -1.8877015113830566, -2.135918617248535, -0.008564531803131104, -3.751559257507324, 0.7052822113037109, -2.124451160430908, -0.5092777609825134, -0.34740155935287476, -1.6687730550765991, -0.6655276417732239, -0.03886612504720688, 6.133366107940674, 4.177191734313965, 3.53293776512146, 5.262271881103516, -2.743079423904419, -0.6272457838058472, -0.6545918583869934, -1.1250883340835571, -1.2649308443069458, -3.705501079559326, 5.092132568359375, -3.4135663509368896, 1.6802442073822021, 3.1018097400665283, 1.429063320159912, -0.7076808214187622, -0.3796427249908447, 4.178414344787598, 1.7627489566802979, 2.455273151397705, 3.9781711101531982, 2.2616755962371826, 2.201552152633667, 0.028936320915818214, 1.0805623531341553, 1.6276445388793945, -1.4229397773742676, 1.6757597923278809, 0.1889408528804779, -0.1759444624185562, 0.06390634924173355, 0.4419300854206085, -0.6540502905845642, 2.705618381500244, 0.5861603021621704, 1.555322289466858, 1.4211616516113281, -3.1248056888580322, -0.03888101875782013, 1.6034040451049805, -0.12388487905263901, 1.4485396146774292, 0.6200287938117981, -0.31766477227211, 1.5197679996490479, -1.8575340509414673, 0.712152361869812, 3.4782769680023193, 1.6608991622924805, 0.06325025856494904, 0.3873628079891205, -3.307013750076294, 4.52905797958374, 0.18879517912864685, 0.2943572998046875, -1.2169562578201294, 0.8303589224815369, 2.810316324234009, 3.4707083702087402, -3.8953981399536133, 3.627419948577881, -1.3592814207077026, 1.4163095951080322, 3.4866857528686523, 0.6208220720291138, 1.318633794784546, 1.838484764099121, -0.9353917837142944, -3.145404577255249, -0.40014997124671936, -0.7105679512023926, 2.5892200469970703, -2.587806463241577, -1.0233672857284546, 1.4456379413604736, 2.4493064880371094, 1.512961506843567, -2.3248608112335205, 0.8693552017211914, 2.780428886413574, -0.7202905416488647, -0.42039281129837036, 2.0339105129241943, 1.8083901405334473, -3.849353551864624, -3.3616106510162354, 1.6014374494552612, 2.478564500808716, 1.9939144849777222, 4.433348655700684, 0.45917969942092896, -1.1187736988067627, -0.21378129720687866, 0.4379687011241913, 0.43656492233276367, 4.698325157165527, 0.1654163897037506, 0.36196038126945496, 0.07724116742610931, 2.0250535011291504, 1.3898433446884155, -3.7720489501953125, 4.295051574707031, 0.06409997493028641, 2.9781129360198975, 1.8811681270599365, 1.011855125427246, 2.6983532905578613, 4.4087371826171875, 1.716330647468567, -2.87697172164917, -0.8095667958259583, -2.440084457397461, 1.746988296508789, 2.4771158695220947, 1.2546957731246948, 2.1814379692077637, 0.542294442653656, 2.5622668266296387, -0.7379249334335327, 2.158365488052368, -1.3395026922225952, -1.542379379272461, 0.4995715022087097, 1.5554922819137573, 0.3844156265258789, -2.0190963745117188, 0.387536883354187, 2.2718992233276367, 1.049507737159729, -0.2199624925851822, 5.718895435333252, 2.2671444416046143, 0.2884805500507355, 0.5735249519348145, -0.27528661489486694, -0.9610899686813354, -0.1581045687198639, -4.092587471008301, 0.3740542531013489, 2.4987330436706543, -2.59793758392334, -0.2317531406879425, 3.8052170276641846, 0.49958109855651855, -1.547325849533081, 4.99647855758667, 3.042015552520752, -2.5510568618774414, -0.8622345328330994, 2.2605631351470947, -0.3369792103767395, -0.8796982765197754, 1.3573405742645264, 3.192033529281616, -3.0141830444335938, -2.2928848266601562, 2.9955224990844727, 1.755278468132019, 1.078197717666626, -0.05276048928499222, -0.33799293637275696, -0.7184028625488281, 3.418531656265259, -1.171337366104126, 0.44816693663597107, 0.544785737991333, 1.4202821254730225, 0.20085865259170532, 2.292834997177124, -3.3555662631988525, 2.4520301818847656, 0.22706134617328644, 1.2123903036117554, -4.270767688751221, 0.7877694964408875, -4.449375629425049, -3.903261184692383, 1.953389286994934, 3.7222204208374023, 4.352468013763428, -0.41166970133781433, 1.5497385263442993, -3.0822417736053467, 0.29220959544181824, 2.592308759689331, 1.579018235206604, -2.5643601417541504, 2.3371479511260986, 1.7227652072906494, 2.319502592086792, 0.14462266862392426, 0.11417772620916367, 1.8523478507995605, 2.1024014949798584, 4.1858086585998535, -4.950019359588623, 2.8039793968200684, 0.058832019567489624, 2.5917015075683594, 1.7301236391067505, 5.223062038421631, 3.8411366939544678, 3.1531407833099365, -4.618256092071533, 3.746185302734375, 2.5688018798828125, 3.437467336654663, 2.1939427852630615, 3.0625360012054443, -3.328928232192993, 2.593305826187134, -0.3634614646434784, -0.7659835815429688, 1.1212303638458252, 3.0007853507995605, 0.7166832685470581, 5.927833557128906, 0.9067392945289612, 3.32688570022583, 7.5587615966796875, 2.5191705226898193, -1.9864906072616577, 2.2806427478790283, 1.183393120765686, -0.3088621199131012, -2.9875450134277344, 3.206350088119507, -1.8136698007583618, -1.515673279762268, 2.886850357055664, 0.021300317719578743, 0.5542888641357422, 4.571388244628906, 1.0476635694503784, -1.6347477436065674, -0.7140874266624451, 3.9811995029449463, 0.3019335865974426, 1.6235687732696533, 1.9987404346466064, -4.804342269897461, 1.2984445095062256, 2.4271605014801025, 2.1981515884399414, 4.576051712036133, -0.2739938199520111, 2.4511241912841797, 0.6509600877761841, 2.008476495742798, -3.1165828704833984, 4.106660842895508, 4.091727256774902, -0.37766343355178833, -1.4779952764511108, -3.0225229263305664, 2.9102089405059814, -3.631334066390991, -2.413055658340454, -0.30423715710639954, -0.7311851382255554, -1.136076807975769, -1.8765660524368286, 2.2490875720977783, -2.2986111640930176, 3.712749481201172, -0.45139259099960327, 2.45306658744812, 2.357046604156494, -2.436281204223633, 1.432239055633545, -1.5414577722549438, -2.615598201751709, -1.6329478025436401, -0.8298705816268921, -1.005615234375, -3.2691662311553955, -0.42013272643089294, 3.2759130001068115, 1.3616929054260254, 0.18521034717559814, 0.13388672471046448, 1.540818452835083, -0.076101154088974, 3.039161443710327, 2.506938934326172, -0.6360938549041748, 1.0780415534973145, 2.1890780925750732, 7.256226062774658, 2.8082730770111084, -6.947889804840088, 1.3248796463012695, -0.77805495262146, -0.573205292224884, -3.1260414123535156, 4.654761791229248, 4.029439449310303, 1.2111363410949707, -2.299628496170044, 5.150698661804199, -0.9427042007446289, 0.9521364569664001, 2.6150925159454346, -2.558346748352051, 2.19551420211792, -1.7576037645339966, -3.4248733520507812, 2.285489797592163, 3.993194818496704, 0.8116158246994019, 2.5309064388275146, 2.4784345626831055, 0.7593991160392761, 0.46636414527893066, 3.596585512161255, -1.3890516757965088, 3.5267210006713867, -3.335918664932251, 1.7337538003921509, 0.6431266069412231, 1.7082282304763794, 1.530734658241272, 3.141742706298828, 0.1752999722957611, -0.9744842648506165, 1.2786564826965332, -1.5276713371276855, 1.8088449239730835, 1.845078706741333, 0.3841713070869446, -5.225554943084717, 2.5196168422698975, 1.7185600996017456, 2.635223388671875, -2.7614991664886475, 0.4962707459926605, 2.145521879196167, 1.006195068359375, -0.5563172101974487, -1.6257061958312988, 0.16207943856716156, 1.4895079135894775, 1.0920766592025757, 1.998376727104187, -1.3390028476715088, 3.085510492324829, -2.4132466316223145, 2.481245517730713, 2.2655608654022217, 2.744974374771118, 0.8267718553543091, -1.5008717775344849, 3.2226929664611816, 7.318399906158447, 3.501309633255005, -1.491593360900879, -1.6558836698532104, -2.7908191680908203, 0.5613527297973633, 1.3834954500198364, 1.0020040273666382, 1.0775604248046875, -0.8847813010215759, 2.081360340118408, 0.4405691921710968, -0.2026500254869461, -1.138140082359314, 2.3185782432556152, -0.8013107180595398, 3.9012937545776367, -0.31273552775382996, 2.9576592445373535, 6.026139736175537, 1.9296931028366089, -0.389243483543396, 2.7003679275512695, 2.709573745727539, 1.9825724363327026, 1.5438908338546753, -2.4227147102355957, -1.3313876390457153, 2.227625608444214, 4.075900077819824, 2.748120069503784, 3.2940306663513184, 0.16872262954711914, 0.33810800313949585, 0.1907430738210678, -1.3243391513824463, 5.299511432647705, -0.44251468777656555, -0.8694865107536316, 1.7410566806793213, 1.5656678676605225, 5.6423516273498535, -1.0236626863479614, 3.996460199356079, 0.5267724990844727, 0.9398688673973083, 4.316389560699463, -0.4910658299922943, -1.9616330862045288, -4.835204601287842, -5.346644878387451, 2.7408108711242676, 1.3838964700698853, 1.0017489194869995, 0.713371992111206, 0.7871530055999756, -2.172492027282715, -2.059473752975464, 5.1099982261657715, -0.609546422958374, 1.675784945487976, -2.1424560546875, 2.298231363296509, -0.5313804149627686, -2.2077174186706543, 6.057893753051758, 5.081350326538086, -4.332646369934082, 0.9536142349243164, 0.369340717792511, 1.593230128288269, 0.7857652306556702, -4.23225212097168, 0.5062860250473022, 2.873185157775879, 2.3414077758789062, -1.4497220516204834, -1.063562035560608, 0.5649372935295105, -2.179685354232788, -1.5161117315292358, 4.78852653503418, -0.09987501800060272, 1.2878144979476929, 2.2475571632385254, 0.05488271266222, 3.549389123916626, 2.019390344619751, 2.1050808429718018, 2.9953114986419678, -0.24021762609481812, 4.05615758895874, 3.739889621734619, 4.242764949798584, -3.3325648307800293, 1.9206247329711914, -0.26866060495376587, 1.4701169729232788, 4.323866367340088, 3.733189582824707, -1.6684132814407349, 10.209290504455566, 1.389503002166748, -4.9343743324279785, 1.067690134048462, -0.4338099956512451, 1.19190514087677, 1.504676342010498, 3.2758448123931885, 0.4864073693752289, -1.0420494079589844, -2.5998213291168213, -1.6170330047607422, -0.7335344552993774, -1.0956023931503296, 0.13765949010849, 1.2632492780685425, -0.8918688893318176, -2.262089967727661, 2.7760884761810303, -0.21548420190811157, -4.733747482299805, 2.360548257827759, 1.9131436347961426, 0.6270581483840942, -1.0211702585220337, 2.602074146270752, 1.0036451816558838, 0.19546325504779816, 2.405731439590454, 1.8994455337524414, 0.5395910143852234, 5.321065902709961, 0.37033605575561523, 2.023894786834717, -0.9769741892814636, 3.7372052669525146, 1.0367534160614014, -1.2543030977249146, 5.3125996589660645, 2.5580508708953857, 4.056077480316162, -2.921236753463745, 2.4492135047912598, -0.22339148819446564, 1.8444654941558838, 2.687106132507324, 0.36405351758003235, -0.8144766688346863, 2.8065223693847656, 1.9328804016113281, 4.7909159660339355, 5.77093505859375, 3.908515691757202, 0.9005160331726074, 0.02499585971236229, -1.5183143615722656, 0.8290150761604309, 2.5140581130981445, 0.8498410582542419, -2.172722339630127, -3.9985806941986084, -0.8504419326782227, 2.222102165222168, -1.4552481174468994, 1.2246979475021362, 0.9337608814239502, 2.6752641201019287, 3.2451305389404297, -1.652422547340393, -0.6135210394859314, -2.978722095489502, -3.196305990219116, -4.120702266693115, -2.336578369140625, -2.7001821994781494, 0.4857579171657562, -1.847263216972351, -1.204079031944275, -0.5259232521057129, -3.8725082874298096, -3.158863067626953, -0.7082176804542542, -2.895761728286743, -0.43794482946395874, -2.2710988521575928, -0.6818152666091919, 0.05291581526398659, -0.7953490614891052, 0.44758671522140503, -0.6723186373710632, 0.4674363136291504, -1.6877021789550781, -1.7156870365142822, 1.9440951347351074, 1.1748650074005127, -2.739563226699829, 0.5244696140289307, 2.556001663208008, -1.0348761081695557, -2.794530153274536, 1.6513713598251343, -0.4643982946872711, -1.543533444404602, -1.8730839490890503, -1.8409370183944702, -2.3478782176971436, -2.6329987049102783, -1.1081150770187378, -2.9222092628479004, -1.7058004140853882, -1.1114081144332886, -2.423778533935547, 3.2441890239715576, -0.055147428065538406, 2.123257875442505, 0.5297546982765198, -3.376779556274414, 5.217662334442139, -3.5489983558654785, -2.325270414352417, -3.5220422744750977, -1.0560742616653442, -3.4479010105133057, -3.0128397941589355, -0.7206056714057922, -5.774203777313232, -0.5766207575798035, -0.18974822759628296, 2.967885732650757, -0.6756913661956787, -0.5761400461196899, 1.5820003747940063, 0.12412836402654648, -0.21025477349758148, -1.8737740516662598, -1.1824204921722412, -0.5999808311462402, -0.7686179280281067, -1.7203389406204224, -3.919280529022217, -3.0244858264923096, -2.1285347938537598, -1.8261966705322266, -1.2699788808822632, 1.3627732992172241, 3.8227808475494385]\n"
     ]
    }
   ],
   "source": [
    "import cv2\n",
    "img = cv2.imread('banana.jpg')\n",
    "input_data = {'data': img.tolist()}\n",
    "headers = {'Content-Type':'application/json'}\n",
    "response = requests.post(url, data=json.dumps(input_data), headers=headers)\n",
    "print(response)\n",
    "print(response.json())"
   ]
  },
  {
   "cell_type": "code",
   "execution_count": 1,
   "metadata": {},
   "outputs": [],
   "source": [
    "from PIL import Image\n",
    "img = Image.open('banana.jpg')\n",
    "img.show"
   ]
  },
  {
   "cell_type": "code",
   "execution_count": 30,
   "metadata": {},
   "outputs": [],
   "source": [
    "from PIL import Image\n",
    "print(Image.__version__)"
   ]
  },
  {
   "cell_type": "code",
   "execution_count": 27,
   "metadata": {},
   "outputs": [],
   "source": [
    "(np.array(response.json())[0])"
   ]
  },
  {
   "cell_type": "markdown",
   "metadata": {},
   "source": [
    "When you are finished testing your service, clean up the deployment with [service.delete()](https://docs.microsoft.com/en-us/python/api/azureml-core/azureml.core.webservice%28class%29?view=azure-ml-py#delete--)."
   ]
  },
  {
   "cell_type": "code",
   "execution_count": 72,
   "metadata": {},
   "outputs": [],
   "source": [
    "service.delete()"
   ]
  },
  {
   "cell_type": "markdown",
   "metadata": {},
   "source": [
    "## Next steps\n",
    "\n",
    " - To run a production-ready web service, see the [notebook on deployment to Azure Kubernetes Service](../production-deploy-to-aks/production-deploy-to-aks.ipynb).\n",
    " - To run a local web service, see the [notebook on deployment to a local Docker container](../deploy-to-local/register-model-deploy-local.ipynb).\n",
    " - For more information on datasets, see the [notebook on training with datasets](../../work-with-data/datasets-tutorial/train-with-datasets/train-with-datasets.ipynb).\n",
    " - For more information on environments, see the [notebook on using environments](../../training/using-environments/using-environments.ipynb).\n",
    " - For information on all the available deployment targets, see [&ldquo;How and where to deploy models&rdquo;](https://docs.microsoft.com/en-us/azure/machine-learning/service/how-to-deploy-and-where#choose-a-compute-target)."
   ]
  }
 ],
 "metadata": {
  "authors": [
   {
    "name": "vaidyas"
   }
  ],
  "category": "deployment",
  "compute": [
   "None"
  ],
  "datasets": [
   "Diabetes"
  ],
  "deployment": [
   "Azure Container Instance"
  ],
  "exclude_from_index": false,
  "framework": [
   "Scikit-learn"
  ],
  "friendly_name": "Register model and deploy as webservice",
  "index_order": 3,
  "kernelspec": {
   "display_name": "Python 3",
   "language": "python",
   "name": "python3"
  },
  "language_info": {
   "codemirror_mode": {
    "name": "ipython",
    "version": 3
   },
   "file_extension": ".py",
   "mimetype": "text/x-python",
   "name": "python",
   "nbconvert_exporter": "python",
   "pygments_lexer": "ipython3",
   "version": "3.7.6"
  },
  "star_tag": [
   "featured"
  ],
  "tags": [
   "None"
  ],
  "task": "Deploy a model with Azure Machine Learning"
 },
 "nbformat": 4,
 "nbformat_minor": 2
}
